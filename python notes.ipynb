{
 "cells": [
  {
   "cell_type": "code",
   "execution_count": 2,
   "metadata": {},
   "outputs": [
    {
     "data": {
      "text/plain": [
       "2"
      ]
     },
     "execution_count": 2,
     "metadata": {},
     "output_type": "execute_result"
    }
   ],
   "source": [
    "1+1 #just operations"
   ]
  },
  {
   "cell_type": "code",
   "execution_count": 1,
   "metadata": {},
   "outputs": [
    {
     "name": "stdout",
     "output_type": "stream",
     "text": [
      "Hello world\n"
     ]
    }
   ],
   "source": [
    "print(\"Hello world\")"
   ]
  },
  {
   "cell_type": "code",
   "execution_count": 3,
   "metadata": {},
   "outputs": [
    {
     "data": {
      "text/plain": [
       "5"
      ]
     },
     "execution_count": 3,
     "metadata": {},
     "output_type": "execute_result"
    }
   ],
   "source": [
    "value = 5 #variable - no type?\n",
    "value"
   ]
  },
  {
   "cell_type": "code",
   "execution_count": 2,
   "metadata": {
    "scrolled": true
   },
   "outputs": [
    {
     "name": "stdout",
     "output_type": "stream",
     "text": [
      "inside function\n"
     ]
    },
    {
     "data": {
      "text/plain": [
       "5"
      ]
     },
     "execution_count": 2,
     "metadata": {},
     "output_type": "execute_result"
    }
   ],
   "source": [
    "def this_is_function(): #uses colons...\n",
    "    print(\"inside function\")\n",
    "    return 5\n",
    "this_is_function()"
   ]
  },
  {
   "cell_type": "code",
   "execution_count": 4,
   "metadata": {},
   "outputs": [
    {
     "data": {
      "text/plain": [
       "125"
      ]
     },
     "execution_count": 4,
     "metadata": {},
     "output_type": "execute_result"
    }
   ],
   "source": [
    "def function2(x): #parameter\n",
    "    return x*x*x\n",
    "function2(5)"
   ]
  },
  {
   "cell_type": "code",
   "execution_count": 6,
   "metadata": {},
   "outputs": [
    {
     "name": "stdout",
     "output_type": "stream",
     "text": [
      "1000\n",
      "8\n"
     ]
    }
   ],
   "source": [
    "def function3(x=10): #parameter with default value\n",
    "    return x*x*x\n",
    "print(function3())\n",
    "print(function3(2))"
   ]
  },
  {
   "cell_type": "code",
   "execution_count": 7,
   "metadata": {},
   "outputs": [
    {
     "name": "stdout",
     "output_type": "stream",
     "text": [
      "8\n",
      "64\n",
      "32\n",
      "16\n",
      "243\n"
     ]
    }
   ],
   "source": [
    "def function4(x=2, num=3):\n",
    "    value = 1\n",
    "    for i in range(num):\n",
    "        value *= x\n",
    "    return value\n",
    "print(function4()) #both x and num have default values\n",
    "print(function4(4)) #x=4 and num takes default\n",
    "print(function4(2,5))\n",
    "print(function4(x=4, num=2))\n",
    "print(function4(num=5, x=3)) #can switch order too"
   ]
  },
  {
   "cell_type": "code",
   "execution_count": 8,
   "metadata": {},
   "outputs": [
    {
     "data": {
      "text/plain": [
       "21"
      ]
     },
     "execution_count": 8,
     "metadata": {},
     "output_type": "execute_result"
    }
   ],
   "source": [
    "def function5(*args): #note: args is convention but variable can be anything\n",
    "    value = 0\n",
    "    for x in args:\n",
    "        value += x\n",
    "    return value\n",
    "function5(1, 2, 3, 4, 5, 6) #*args takes in any number of parameters - kind of like a list?"
   ]
  },
  {
   "cell_type": "code",
   "execution_count": 9,
   "metadata": {},
   "outputs": [
    {
     "name": "stdout",
     "output_type": "stream",
     "text": [
      "foo: abc\n",
      "function: xyz\n"
     ]
    }
   ],
   "source": [
    "foo = \"abc\"\n",
    "def function6():\n",
    "    foo = \"xyz\"\n",
    "    return foo\n",
    "print(\"foo:\",foo)\n",
    "print(\"function:\",function6())"
   ]
  },
  {
   "cell_type": "code",
   "execution_count": 12,
   "metadata": {},
   "outputs": [
    {
     "name": "stdout",
     "output_type": "stream",
     "text": [
      "function: xyz\n",
      "foo: xyz\n"
     ]
    }
   ],
   "source": [
    "foo = \"abc\"\n",
    "def function6a():\n",
    "    global foo #must declare as global separate from initialization\n",
    "    foo = \"xyz\"\n",
    "    return foo\n",
    "print(\"function:\",function6a())\n",
    "print(\"foo:\",foo) #once function6a is called the value of foo changes"
   ]
  },
  {
   "cell_type": "code",
   "execution_count": 13,
   "metadata": {},
   "outputs": [
    {
     "name": "stdout",
     "output_type": "stream",
     "text": [
      "greater than five\n",
      "equal to five\n",
      "less than five\n"
     ]
    }
   ],
   "source": [
    "def function7(value):\n",
    "    if (value>5):\n",
    "        print(\"greater than five\")\n",
    "    elif (value==5):\n",
    "        print(\"equal to five\")\n",
    "    else:\n",
    "        print(\"less than five\")\n",
    "function7(10)\n",
    "function7(5)\n",
    "function7(0)"
   ]
  },
  {
   "cell_type": "code",
   "execution_count": 14,
   "metadata": {},
   "outputs": [
    {
     "name": "stdout",
     "output_type": "stream",
     "text": [
      "10\n"
     ]
    }
   ],
   "source": [
    "x = 0\n",
    "while (x<10):\n",
    "    x+=1\n",
    "print(x)"
   ]
  },
  {
   "cell_type": "code",
   "execution_count": 15,
   "metadata": {},
   "outputs": [
    {
     "name": "stdout",
     "output_type": "stream",
     "text": [
      "5\n"
     ]
    }
   ],
   "source": [
    "x = 0\n",
    "for i in range(5): #basically for(int i = 0; i<5; i++) in java i think\n",
    "    x+=1\n",
    "print(x)"
   ]
  },
  {
   "cell_type": "code",
   "execution_count": 16,
   "metadata": {},
   "outputs": [
    {
     "name": "stdout",
     "output_type": "stream",
     "text": [
      "0\n",
      "2\n",
      "4\n"
     ]
    }
   ],
   "source": [
    "for i in range(0,5,2): #start, end, step size\n",
    "    print(i)"
   ]
  },
  {
   "cell_type": "code",
   "execution_count": 17,
   "metadata": {},
   "outputs": [
    {
     "name": "stdout",
     "output_type": "stream",
     "text": [
      "55\n"
     ]
    }
   ],
   "source": [
    "ar = [1, 2, 3, 4, 5, 6, 7, 8, 9, 10] #array\n",
    "value = 0\n",
    "for a in ar: #similar to for(int e : ar)\n",
    "    value += a\n",
    "print(value)"
   ]
  },
  {
   "cell_type": "code",
   "execution_count": 18,
   "metadata": {},
   "outputs": [
    {
     "name": "stdout",
     "output_type": "stream",
     "text": [
      "1\n",
      "3\n",
      "5\n",
      "7\n",
      "9\n"
     ]
    }
   ],
   "source": [
    "for i in range(10):\n",
    "    if (i%2==0):\n",
    "        continue #if i is even, skip it and continue with for loop\n",
    "    print(i)"
   ]
  },
  {
   "cell_type": "code",
   "execution_count": 19,
   "metadata": {},
   "outputs": [
    {
     "name": "stdout",
     "output_type": "stream",
     "text": [
      "0\n",
      "1\n",
      "2\n",
      "3\n"
     ]
    }
   ],
   "source": [
    "for i in range(10):\n",
    "    if(i==4):\n",
    "        break #if i is equal to four, break out of the for loop\n",
    "    print(i)"
   ]
  },
  {
   "cell_type": "code",
   "execution_count": 20,
   "metadata": {},
   "outputs": [
    {
     "name": "stdout",
     "output_type": "stream",
     "text": [
      "0 a\n",
      "1 b\n",
      "2 c\n",
      "3 d\n",
      "4 e\n"
     ]
    }
   ],
   "source": [
    "ar = [\"a\", \"b\", \"c\", \"d\", \"e\"]\n",
    "for i,a in enumerate(ar): #i is for numbers (like counter) and a is for elements in ar\n",
    "    print(i,a)"
   ]
  },
  {
   "cell_type": "code",
   "execution_count": 21,
   "metadata": {},
   "outputs": [
    {
     "name": "stdout",
     "output_type": "stream",
     "text": [
      "5/2= 2.5\n",
      "5//2= 2\n"
     ]
    }
   ],
   "source": [
    "print(\"5/2=\",(5/2)) #normal division\n",
    "print(\"5//2=\",(5//2)) #integer division"
   ]
  },
  {
   "cell_type": "code",
   "execution_count": 22,
   "metadata": {},
   "outputs": [
    {
     "name": "stdout",
     "output_type": "stream",
     "text": [
      "7%4= 3\n",
      "2**4= 16\n"
     ]
    }
   ],
   "source": [
    "print(\"7%4=\",(7%4))\n",
    "print(\"2**4=\",(2**4))"
   ]
  },
  {
   "cell_type": "code",
   "execution_count": 23,
   "metadata": {},
   "outputs": [
    {
     "name": "stdout",
     "output_type": "stream",
     "text": [
      "False\n",
      "True\n",
      "False\n",
      "True\n"
     ]
    }
   ],
   "source": [
    "print(4>5)\n",
    "print(5<10)\n",
    "print((4>5)and(5<10))\n",
    "print((4>5)or(5<10))"
   ]
  },
  {
   "cell_type": "code",
   "execution_count": 25,
   "metadata": {},
   "outputs": [
    {
     "name": "stdout",
     "output_type": "stream",
     "text": [
      "[1, 2, 3, 'hello', 'world', False]\n",
      "1\n",
      "[1, 2, 3, 'hello', 'world', False, 10, 'hi']\n",
      "6\n",
      "[1, 2, 3, 'hello']\n",
      "False\n",
      "[1, 2, 3, 'hello', 'world', False, 1, 2, 3, 'hello', 'world', False]\n",
      "[1, 2, 3, 'hello', 'world', False]\n"
     ]
    }
   ],
   "source": [
    "myList = [1, 2, 3, \"hello\", \"world\", False] #myLists can have different types in them\n",
    "print(myList) #print myList\n",
    "print(myList[0]) #python is 0th indexed\n",
    "print(myList + [10, \"hi\"]) #concat to myList\n",
    "print(len(myList)) #gets length\n",
    "print(myList[0:4]) #gets a slice of the array\n",
    "print(\"hannah\" in myList) #is \"hannah\" in the array\n",
    "print(myList*2) #duplicates all elements\n",
    "print(myList) #after all that the myList didn't actually change\n"
   ]
  },
  {
   "cell_type": "code",
   "execution_count": 7,
   "metadata": {},
   "outputs": [
    {
     "name": "stdout",
     "output_type": "stream",
     "text": [
      "[1, 3, True, 10.5]\n",
      "[1, 3, True, 10.5, False]\n",
      "[1, 15, 3, True, 10.5, False]\n",
      "False\n",
      "[1, 15, 3, True, 10.5]\n",
      "1\n",
      "[15, 3, True, 10.5]\n",
      "sort\n",
      "[True, 3, 10.5, 15]\n",
      "[15, 10.5, 3, True]\n",
      "2\n",
      "0\n",
      "[15, 10.5, 3]\n",
      "[10.5, 3]\n"
     ]
    }
   ],
   "source": [
    "#myList functions - change the actual value of the list without having to set it equal \n",
    "myList = [1, 3,True, 10.5]\n",
    "print(myList)\n",
    "myList.append(False) #add false to the end\n",
    "print(myList)\n",
    "myList.insert(1, 15) #insert \"hi\" at index 2\n",
    "print(myList)\n",
    "print(myList.pop()) #returns and removes element from end\n",
    "print(myList)\n",
    "print(myList.pop(0)) #returns and removes element at index 1\n",
    "print(myList)\n",
    "myList.sort() #sorts myList (note: there can't be strings and integers being sorted together)\n",
    "print(\"sort\")\n",
    "print(myList)\n",
    "myList.reverse() #reverses myList\n",
    "print(myList)\n",
    "print(myList.index(3)) #returns element at index 3\n",
    "print(myList.count(2)) #returns number of times 2 occurs in myList\n",
    "myList.remove(1) #removes first occurence of 1\n",
    "print(myList)\n",
    "del myList[0] #removes element at 0th index\n",
    "print(myList)\n"
   ]
  },
  {
   "cell_type": "code",
   "execution_count": 4,
   "metadata": {},
   "outputs": [
    {
     "name": "stdout",
     "output_type": "stream",
     "text": [
      "range(0, 5)\n",
      "[0, 1, 2, 3, 4]\n",
      "range(1, 10)\n",
      "[1, 2, 3, 4, 5, 6, 7, 8, 9]\n",
      "range(0, 10, 2)\n",
      "[0, 2, 4, 6, 8]\n"
     ]
    }
   ],
   "source": [
    "#btw don't use list as a variable name bc then you get a lot of annoying errors\n",
    "print(range(5))\n",
    "print(list(range(5)))\n",
    "print(range(1,10))\n",
    "print(list(range(1,10)))\n",
    "print(range(0,10,2))\n",
    "print(list(range(0,10,2)))"
   ]
  },
  {
   "cell_type": "code",
   "execution_count": 9,
   "metadata": {},
   "outputs": [
    {
     "name": "stdout",
     "output_type": "stream",
     "text": [
      "Hannah Kim\n",
      "10\n",
      "a\n",
      "Hann\n",
      "['Hannah', 'Kim']\n",
      "1\n",
      "HANNAH KIM\n",
      "hannah kim\n"
     ]
    }
   ],
   "source": [
    "#strings\n",
    "s = \"Hannah Kim\"\n",
    "print(s)\n",
    "print(len(s))\n",
    "print(s[4])\n",
    "print(s[0:4])\n",
    "print(s.split(\" \"))\n",
    "print(s.find(\"a\")) #first instance of a\n",
    "print(s.upper())\n",
    "print(s.lower())\n",
    "#s[4] = \"x\"  --- this doesn't work because you can't just change the value of strings like this"
   ]
  },
  {
   "cell_type": "code",
   "execution_count": 10,
   "metadata": {},
   "outputs": [
    {
     "name": "stdout",
     "output_type": "stream",
     "text": [
      "(5, 'hello', False)\n",
      "hello\n",
      "(5, 'hello')\n",
      "3\n"
     ]
    }
   ],
   "source": [
    "a_tuple = (5, \"hello\", False) #tuple?\n",
    "print(a_tuple)\n",
    "print(a_tuple[1])\n",
    "print(a_tuple[0:2])\n",
    "print(len(a_tuple))"
   ]
  },
  {
   "cell_type": "code",
   "execution_count": 1,
   "metadata": {},
   "outputs": [
    {
     "name": "stdout",
     "output_type": "stream",
     "text": [
      "4\n",
      "True \n",
      "\n",
      "{1, 2, 3, 'hello', 10, 20, 'hi', 30}\n",
      "{1, 2, 3, 'hello', 10, 20, 'hi', 30} \n",
      "\n",
      "{1}\n",
      "{1} \n",
      "\n",
      "{2, 3, 'hello'}\n",
      "{2, 3, 'hello'} \n",
      "\n",
      "True\n",
      "True\n"
     ]
    }
   ],
   "source": [
    "#sets - heterogenous, no duplicates, unordered\n",
    "set1 = {1, 2, 3, True, \"hello\"}\n",
    "set2 = {10, 20, 30, \"hi\", True}\n",
    "\n",
    "print(len(set1))\n",
    "print(\"hello\" in set1, '\\n')\n",
    "\n",
    "print(set1.union(set2))\n",
    "print(set1|set2, '\\n') #same thing\n",
    "\n",
    "print(set1.intersection(set2))\n",
    "print(set1&set2,'\\n')\n",
    "\n",
    "print(set1.difference(set2))\n",
    "print(set1-set2,'\\n') #all elements in set1 but not in set2\n",
    "\n",
    "print({2,\"hello\"}.issubset(set1))\n",
    "print({2,\"hello\"} <= set1) #same thing"
   ]
  },
  {
   "cell_type": "code",
   "execution_count": 6,
   "metadata": {},
   "outputs": [
    {
     "name": "stdout",
     "output_type": "stream",
     "text": [
      "{1, 2, 3, 'bye', 'hello', 'try'}\n",
      "{1, 2, 'bye', 'hello', 'try'}\n",
      "{2, 'bye', 'hello', 'try'}\n",
      "{'bye', 'hello', 'try'}\n",
      "set()\n"
     ]
    }
   ],
   "source": [
    "set1.add(\"try\")\n",
    "print(set1)\n",
    "\n",
    "set1.remove(3)\n",
    "print(set1)\n",
    "\n",
    "set1.pop()\n",
    "print(set1)\n",
    "set1.pop()\n",
    "print(set1)\n",
    "\n",
    "set1.clear()\n",
    "print(set1)"
   ]
  },
  {
   "cell_type": "code",
   "execution_count": 9,
   "metadata": {},
   "outputs": [
    {
     "name": "stdout",
     "output_type": "stream",
     "text": [
      "{'USA': 'Washington DC', 'S. Korea': 'Seoul', 'England': 'London', 'France': 'Paris', 'Spain': 'Madrid'}\n",
      "London\n",
      "{'USA': 'Washington DC', 'S. Korea': 'Seoul', 'England': 'London', 'France': 'Paris', 'Spain': 'Madrid', 'Japan': 'Tokyo'}\n",
      "True\n",
      "False\n"
     ]
    }
   ],
   "source": [
    "#dictionaries - has keys and values like haskmaps. also apparently really good for sorting/searching??\n",
    "capitals = {\"USA\":\"Washington DC\", \"S. Korea\":\"Seoul\", \"England\":\"London\", \"France\":\"Paris\", \"Spain\":\"Madrid\"}\n",
    "print(capitals)\n",
    "print(capitals[\"England\"]) #can be either \"\" or ''\n",
    "capitals[\"Japan\"] = \"Tokyo\"\n",
    "print(capitals)\n",
    "#oh apparently dictionaries ARE hashmaps lmao\n",
    "\n",
    "print(\"S. Korea\" in capitals)\n",
    "print(\"Mexico\" in capitals)"
   ]
  },
  {
   "cell_type": "code",
   "execution_count": 11,
   "metadata": {},
   "outputs": [
    {
     "name": "stdout",
     "output_type": "stream",
     "text": [
      "dict_keys(['USA', 'S. Korea', 'England', 'France', 'Spain', 'Japan'])\n",
      "['USA', 'S. Korea', 'England', 'France', 'Spain', 'Japan'] \n",
      "\n",
      "dict_values(['Washington DC', 'Seoul', 'London', 'Paris', 'Madrid', 'Tokyo'])\n",
      "['USA', 'S. Korea', 'England', 'France', 'Spain', 'Japan'] \n",
      "\n",
      "dict_items([('USA', 'Washington DC'), ('S. Korea', 'Seoul'), ('England', 'London'), ('France', 'Paris'), ('Spain', 'Madrid'), ('Japan', 'Tokyo')])\n",
      "[('USA', 'Washington DC'), ('S. Korea', 'Seoul'), ('England', 'London'), ('France', 'Paris'), ('Spain', 'Madrid'), ('Japan', 'Tokyo')] \n",
      "\n",
      "Washington DC\n",
      "None\n"
     ]
    }
   ],
   "source": [
    "#hashmap functions\n",
    "print(capitals.keys())\n",
    "print(list(capitals.keys()), '\\n')\n",
    "\n",
    "print(capitals.values())\n",
    "print(list(capitals.keys()),'\\n')\n",
    "\n",
    "print(capitals.items())\n",
    "print(list(capitals.items()),'\\n')\n",
    "\n",
    "print(capitals.get(\"USA\"))\n",
    "print(capitals.get(\"Russia\"))"
   ]
  },
  {
   "cell_type": "code",
   "execution_count": 15,
   "metadata": {},
   "outputs": [
    {
     "name": "stdout",
     "output_type": "stream",
     "text": [
      "The capital of USA is Washington DC\n",
      "The capital of S. Korea is Seoul\n",
      "The capital of England is London\n",
      "The capital of France is Paris\n",
      "The capital of Spain is Madrid\n",
      "The capital of Japan is Tokyo\n"
     ]
    }
   ],
   "source": [
    "for i in capitals:\n",
    "    print(\"The capital of\",i,\"is\",capitals[i])"
   ]
  },
  {
   "cell_type": "code",
   "execution_count": 16,
   "metadata": {},
   "outputs": [
    {
     "name": "stdout",
     "output_type": "stream",
     "text": [
      "The capital of USA is Washington DC\n",
      "The capital of S. Korea is Seoul\n",
      "The capital of England is London\n",
      "The capital of France is Paris\n",
      "The capital of Spain is Madrid\n",
      "The capital of Japan is Tokyo\n"
     ]
    }
   ],
   "source": [
    "#can also do for loops with more than one variable?!??\n",
    "for i,j in capitals.items():\n",
    "    print(\"The capital of\",i,\"is\",j)"
   ]
  },
  {
   "cell_type": "code",
   "execution_count": null,
   "metadata": {},
   "outputs": [],
   "source": []
  }
 ],
 "metadata": {
  "kernelspec": {
   "display_name": "Python 3",
   "language": "python",
   "name": "python3"
  },
  "language_info": {
   "codemirror_mode": {
    "name": "ipython",
    "version": 3
   },
   "file_extension": ".py",
   "mimetype": "text/x-python",
   "name": "python",
   "nbconvert_exporter": "python",
   "pygments_lexer": "ipython3",
   "version": "3.7.1"
  }
 },
 "nbformat": 4,
 "nbformat_minor": 2
}
